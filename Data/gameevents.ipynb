{
 "cells": [
  {
   "cell_type": "markdown",
   "metadata": {},
   "source": [
    "## Static Events\n",
    "Events can be subscribed by using `GameEvents.SomeEvent.Add(SomeFunction)`.\n",
    "\n",
    "| Name | Parameters |\n",
    "|:---- |:--------- |\n",
    "| [[GameEvents.BuildingConstructed]] | `playerID [number]`<br/>`cityID [number]`<br/>`buildingID [number]`<br/>`plotID [number]`<br/>`bOriginalConstruction [boolean]` |\n",
    "| [[GameEvents.BuildingPillageStateChanged]] | `playerID [number]`<br/>`cityID [number]`<br/>`buildingID [number]`<br/>`bPillageState [boolean]` |\n",
    "| [[GameEvents.CityBuilt]] | `playerID [number]`<br/>`cityID [number]`<br/>`iX [number]`<br/>`iY [number]` |\n",
    "| [[GameEvents.CityConquered]] | `newPlayerID [number]`<br/>`oldPlayerID [number]`<br/>`newCityID [number]`<br/>`iCityX [number]`<br/>`iCityY [number]` |\n",
    "| [[GameEvents.DiploSurpriseDeclareWar]] | `mainPlayer [number]`<br/>`opponentPlayer [number]` |\n",
    "| [[GameEvents.EventPopupChoice]] | `playerID [number]`<br/>`tParameters [table]` |\n",
    "| [[GameEvents.FoundNewWorld]] | `playerID [number]`<br/>`Threshold [number]` |\n",
    "| [[GameEvents.HasFourCities]] | `playerID [number]`<br/>`Threshold [number]` |\n",
    "| [[GameEvents.OnCityPopulationChanged]] | `cityOwner [number]`<br/>`cityID [number]`<br/>`ChangeAmount [number]` |\n",
    "| [[GameEvents.OnCivicCulturevated]] | `iPlayer [number]`<br/>`eCivic [number]` |\n",
    "| [[GameEvents.OnDistrictConstructed]] | `playerID [number]`<br/>`districtID [number]`<br/>`iX [number]`<br/>`iY [number]` |\n",
    "| [[GameEvents.OnFaithEarned]] | `ePlayer [number]`<br/>`iFaithAmount [number]` |\n",
    "| [[GameEvents.OnGameTurnStarted]] | `playerID [number]` |\n",
    "| [[GameEvents.OnNewMajorityReligion]] |  |\n",
    "| [[GameEvents.OnPillage]] | `playerID [number]`<br/>`unitID [number]`<br/>`bImprovement [boolean]`<br/>`buildingType [number]` |\n",
    "| [[GameEvents.OnPlayerCommandSetObjectState]] | `playerID [number]`<br/>`tParameters [table]` |\n",
    "| [[GameEvents.OnPlayerGaveInfluenceToken]] | `majorID [number]`<br/>`minorID [number]`<br/>`iAmount [number]` |\n",
    "| [[GameEvents.OnRandomEventOccurred]] | `iType [number]`<br/>`iSeverity [number]`<br/>`iX [number]`<br/>`iY [number]`<br/>`iMitigationLevel [number]` |\n",
    "| [[GameEvents.OnUnitRetreated]] | `unitOwner [number]`<br/>`unitID [number]` |\n",
    "| [[GameEvents.PlayerTurnStartComplete]] | `playerID [number]` |\n",
    "| [[GameEvents.PlayerTurnStarted]] | `playerID [number]` |\n",
    "| [[GameEvents.PlotOwnershipChanged]] |  |\n",
    "| [[GameEvents.PlotPropertyChanged]] | `iX [number]`<br/>`iY [number]` |\n",
    "| [[GameEvents.PolicyChanged]] | `playerID [number]`<br/>`policyID [number]`<br/>`bEnacted [boolean]` |\n",
    "| [[GameEvents.UnitAddedToMap]] | `playerID [number]`<br/>`unitID [number]` |"
   ]
  }
 ],
 "metadata": {
  "language_info": {
   "name": "python"
  }
 },
 "nbformat": 4,
 "nbformat_minor": 2
}
